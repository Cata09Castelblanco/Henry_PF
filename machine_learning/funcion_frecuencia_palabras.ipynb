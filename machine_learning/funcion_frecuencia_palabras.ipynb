{
  "cells": [
    {
      "cell_type": "code",
      "execution_count": 34,
      "metadata": {
        "id": "GaJL8BPCPF11"
      },
      "outputs": [],
      "source": [
        "import numpy as np\n",
        "import pandas as pd\n",
        "\n",
        "from sklearn.pipeline import Pipeline\n",
        "from sklearn.feature_extraction.text import TfidfVectorizer\n",
        "from sklearn.svm import SVC\n",
        "from sklearn.multiclass import OneVsRestClassifier\n",
        "from sklearn.ensemble import RandomForestClassifier\n",
        "from sklearn.naive_bayes import MultinomialNB\n",
        "from sklearn.model_selection import GridSearchCV\n",
        "from sklearn.model_selection import cross_val_score, KFold, train_test_split\n",
        "from sklearn.metrics import f1_score, make_scorer, accuracy_score\n",
        "\n",
        "import matplotlib.pyplot as plt\n",
        "import seaborn as sns\n",
        "from wordcloud import WordCloud, STOPWORDS\n",
        "\n",
        "import pickle\n",
        "\n",
        "import warnings\n",
        "warnings.filterwarnings('ignore')"
      ]
    },
    {
      "cell_type": "code",
      "execution_count": 35,
      "metadata": {},
      "outputs": [],
      "source": [
        "#Se cargan las reviews de Darden\n",
        "path_data = '../data/clean'\n",
        "reviews = pd.read_parquet(f'{path_data}/reviews_darden.parquet')"
      ]
    },
    {
      "cell_type": "code",
      "execution_count": 36,
      "metadata": {},
      "outputs": [],
      "source": [
        "with open('modelo_ML_negativas2.pkl', 'rb') as archivo:\n",
        "    grid_svm = pickle.load(archivo)"
      ]
    },
    {
      "cell_type": "code",
      "execution_count": 37,
      "metadata": {
        "id": "yIUa2jG7PB1a"
      },
      "outputs": [],
      "source": [
        "def predecir_etiqueta(review, grid_svm):\n",
        "    return grid_svm.predict([review])[0]  # [0] para obtener el elemento de la lista\n",
        "\n",
        "def etiquetado_reviews(df_reviews, grid_svm):\n",
        "  reviews_negativas = df_reviews[df_reviews.stars<=3]\n",
        "  reviews_negativas_etiquetadas = reviews_negativas[['text','name','stars']]\n",
        "  reviews_negativas_etiquetadas['problem'] = reviews_negativas['text'].apply(lambda x: predecir_etiqueta(x, grid_svm))\n",
        "\n",
        "\n",
        "  nuevas_columnas = reviews_negativas_etiquetadas['problem'].apply(pd.Series)\n",
        "\n",
        "  reviews_negativas_etiquetadas = pd.concat([reviews_negativas_etiquetadas, nuevas_columnas], axis=1)\n",
        "  reviews_negativas_etiquetadas.rename(columns={0: 'Bad_Food', 1: 'Cost', 2: 'Filthy', 3: 'Missing_Food', 4: 'Order_Problem', 5: 'Rude_Service', 6: 'Bad_Neighborhood', 7: 'Slow_Service'}, inplace=True)\n",
        "  return reviews_negativas_etiquetadas\n",
        "\n",
        "\n",
        "def lista_palabras_problematica(df_reviews_negativas_etiquetadas, restaurante, problematica, stop_words, n_words):\n",
        "  # Combina todo el texto en una sola cadena\n",
        "  df_reviews_negativas_etiquetadas = df_reviews_negativas_etiquetadas\n",
        "  text = ' '.join(df_reviews_negativas_etiquetadas[(df_reviews_negativas_etiquetadas[problematica] == 1) & (df_reviews_negativas_etiquetadas.name ==restaurante)]['text'])\n",
        "\n",
        "  # Stopwords personalizadas\n",
        "  sw = set(STOPWORDS)\n",
        "  sw.update(stop_words)\n",
        "\n",
        "  # Crea la nube de palabras con las stopwords personalizadas\n",
        "  wc = WordCloud(\n",
        "      width=800,\n",
        "      height=400,\n",
        "      background_color='white',\n",
        "      stopwords=sw,\n",
        "      max_words=n_words,\n",
        "  ).generate(text)\n",
        "\n",
        "  # Obtén las palabras más frecuentes\n",
        "  word_frequencies = wc.words_\n",
        "  word_list = [word for word in word_frequencies.keys()]\n",
        "  word_freq = [freq for freq in word_frequencies.values()]\n",
        "  return [word_list,word_freq]\n",
        "\n",
        "def lista_palabras_problematicas(df_reviews, grid_svm):\n",
        "  # Combina todo el texto en una sola cadena):\n",
        "  df_reviews_etiquetadas = etiquetado_reviews(df_reviews, grid_svm)\n",
        "  restaurantes = df_reviews_etiquetadas.name.unique()\n",
        "  problematicas = ('Bad_Food', 'Rude_Service', 'Slow_Service')\n",
        "\n",
        "  stop_words_bad_food = (['good','ordered','one','place','service',\n",
        "  'came','restaurant','got','time','really','great','go',\n",
        "  'nice', 'better', 'bad', 'table', 'side', 'u', 'server',\n",
        "  'will', 'order', 'location', 'went', 'eat', 'well',\n",
        "  'back', 'asked', 'manager', 'first', 'way', 'never',\n",
        "  'come', 'say', 'us', 'even', 'thing', 'know', 'going',\n",
        "  'served', 'waitress', 'ok', 'made', 'said', 'think',\n",
        "  'waiter', 'took', 'hard', 'new', 'horrible', 'long',\n",
        "  'take', 'make', 'visit', 'still', 'left', 'husband',\n",
        "  'last', 'want', 'something', 'pretty', 'another', 'try',\n",
        "  'brought', 'nothing', 'okay', 'best', 'though', 'friend',\n",
        "  'wife', 'ate', 'always', 'around', 'people', 'feel',\n",
        "  'staff', 'minute', 'hour', 'wait','two', 'used','give',\n",
        "  'gone','sides','almost','seated','next','decided',\n",
        "  'liked','overall', 'maybe','star','definitely',\n",
        "  'au', 'sent', 'correctly', 'view', 'everything',\n",
        "  'eating', 'sure', 'area'])\n",
        "\n",
        "  stop_words_rude_service = (['good','one','place',\n",
        "  'restaurant','got','really','great','go',\n",
        "  'better', 'table', 'side', 'u',\n",
        "  'will', 'location', 'went', 'eat', 'well',\n",
        "  'back', 'first', 'way', 'never',\n",
        "  'us', 'even', 'thing', 'know', 'going',\n",
        "  'ok', 'made', 'think', 'took', 'hard', 'horrible',\n",
        "  'take', 'make', 'visit', 'still', 'left', 'husband',\n",
        "  'last', 'want', 'something', 'pretty', 'another', 'try',\n",
        "  'nothing', 'okay', 'best', 'though', 'friend',\n",
        "  'wife', 'ate', 'always', 'around', 'people', 'maybe',\n",
        "  'chicken','cheddar', 'steak','salad' ,'beer', 'meal',\n",
        "  'steak','pasta','soup', 'breadstick', 'wine',\n",
        "  'cheese', 'burger', 'breadstick', 'steaks'\n",
        "  'appetizer', 'minute','waiting', 'min','tow'\n",
        "  ,'next','minutes','love','hour', 'appetizer',\n",
        "  'onion rings', 'lemon'])\n",
        "\n",
        "  stop_words_slow_service = (['good','one','place',\n",
        "  'restaurant','got','really','great',\n",
        "  'nice', 'better', 'bad', 'u',\n",
        "  'will', 'location', 'eat', 'well',\n",
        "  'first', 'way', 'never',\n",
        "  'say', 'us', 'even', 'thing', 'know', 'going',\n",
        "  'ok', 'said', 'think',\n",
        "  'hard', 'horrible', 'maybe',\n",
        "  'still', 'left', 'husband',\n",
        "  'last', 'want', 'something', 'pretty', 'another', 'try'\n",
        "  'nothing', 'okay', 'best', 'though', 'friend',\n",
        "  'wife', 'ate', 'always', 'around', 'people', 'feel'])\n",
        "\n",
        "  problema_stopwords = {\n",
        "    'Bad_Food':[stop_words_bad_food, 30],\n",
        "    'Rude_Service': [stop_words_rude_service, 30],\n",
        "    'Slow_Service': [stop_words_slow_service, 30]\n",
        "  }\n",
        "  lista_restaurantes = []\n",
        "  lista_problematica = []\n",
        "  lista_palabras = []\n",
        "  lista_frecuencias = []\n",
        "  for restaurante in restaurantes:\n",
        "    lista_restaurantes += [restaurante]*90\n",
        "    for problematica in problematicas:\n",
        "      lista_problematica += [problematica]*30\n",
        "      lista_palabras += lista_palabras_problematica(df_reviews_etiquetadas, restaurante,problematica, problema_stopwords[problematica][0], problema_stopwords[problematica][1])[0]\n",
        "      lista_frecuencias += lista_palabras_problematica(df_reviews_etiquetadas, restaurante,problematica, problema_stopwords[problematica][0], problema_stopwords[problematica][1])[1]\n",
        "  dict_problematicas = {\n",
        "        'Cadena': lista_restaurantes,\n",
        "        'Etiqueta': lista_problematica,\n",
        "        'Palabra': lista_palabras,\n",
        "        'Frecuencia': lista_frecuencias\n",
        "    }\n",
        "  return dict_problematicas"
      ]
    },
    {
      "cell_type": "code",
      "execution_count": 38,
      "metadata": {
        "colab": {
          "base_uri": "https://localhost:8080/"
        },
        "id": "zuD3l8gaPMkd",
        "outputId": "5038c262-d133-4e2b-91ac-313501aefbe9"
      },
      "outputs": [],
      "source": [
        "palabras_problematicas = lista_palabras_problematicas(reviews, grid_svm)"
      ]
    },
    {
      "cell_type": "code",
      "execution_count": 39,
      "metadata": {},
      "outputs": [
        {
          "data": {
            "text/plain": [
              "dict_keys(['Cadena', 'Etiqueta', 'Palabra', 'Frecuencia'])"
            ]
          },
          "execution_count": 39,
          "metadata": {},
          "output_type": "execute_result"
        }
      ],
      "source": [
        "palabras_problematicas.keys()"
      ]
    },
    {
      "cell_type": "code",
      "execution_count": 40,
      "metadata": {},
      "outputs": [],
      "source": [
        "df = pd.DataFrame(palabras_problematicas, columns=palabras_problematicas.keys())"
      ]
    },
    {
      "cell_type": "code",
      "execution_count": 41,
      "metadata": {},
      "outputs": [],
      "source": [
        "df['Frecuencia'] = df['Frecuencia'].apply(lambda x: int(x * 1000))"
      ]
    },
    {
      "cell_type": "code",
      "execution_count": 42,
      "metadata": {},
      "outputs": [
        {
          "data": {
            "text/html": [
              "<div>\n",
              "<style scoped>\n",
              "    .dataframe tbody tr th:only-of-type {\n",
              "        vertical-align: middle;\n",
              "    }\n",
              "\n",
              "    .dataframe tbody tr th {\n",
              "        vertical-align: top;\n",
              "    }\n",
              "\n",
              "    .dataframe thead th {\n",
              "        text-align: right;\n",
              "    }\n",
              "</style>\n",
              "<table border=\"1\" class=\"dataframe\">\n",
              "  <thead>\n",
              "    <tr style=\"text-align: right;\">\n",
              "      <th></th>\n",
              "      <th>Cadena</th>\n",
              "      <th>Etiqueta</th>\n",
              "      <th>Palabra</th>\n",
              "      <th>Frecuencia</th>\n",
              "    </tr>\n",
              "  </thead>\n",
              "  <tbody>\n",
              "    <tr>\n",
              "      <th>334</th>\n",
              "      <td>Olive Garden Italian Restaurant</td>\n",
              "      <td>Slow_Service</td>\n",
              "      <td>order</td>\n",
              "      <td>655</td>\n",
              "    </tr>\n",
              "    <tr>\n",
              "      <th>392</th>\n",
              "      <td>Ruth's Chris Steak House</td>\n",
              "      <td>Rude_Service</td>\n",
              "      <td>food</td>\n",
              "      <td>788</td>\n",
              "    </tr>\n",
              "    <tr>\n",
              "      <th>126</th>\n",
              "      <td>Yard House</td>\n",
              "      <td>Rude_Service</td>\n",
              "      <td>bartender</td>\n",
              "      <td>376</td>\n",
              "    </tr>\n",
              "    <tr>\n",
              "      <th>658</th>\n",
              "      <td>Seasons 52</td>\n",
              "      <td>Bad_Food</td>\n",
              "      <td>lot</td>\n",
              "      <td>163</td>\n",
              "    </tr>\n",
              "    <tr>\n",
              "      <th>459</th>\n",
              "      <td>Eddie V's Prime Seafood</td>\n",
              "      <td>Bad_Food</td>\n",
              "      <td>cooked</td>\n",
              "      <td>315</td>\n",
              "    </tr>\n",
              "    <tr>\n",
              "      <th>193</th>\n",
              "      <td>LongHorn Steakhouse</td>\n",
              "      <td>Bad_Food</td>\n",
              "      <td>appetizer</td>\n",
              "      <td>188</td>\n",
              "    </tr>\n",
              "    <tr>\n",
              "      <th>583</th>\n",
              "      <td>Bahama Breeze</td>\n",
              "      <td>Rude_Service</td>\n",
              "      <td>bad</td>\n",
              "      <td>358</td>\n",
              "    </tr>\n",
              "    <tr>\n",
              "      <th>687</th>\n",
              "      <td>Seasons 52</td>\n",
              "      <td>Rude_Service</td>\n",
              "      <td>wanted</td>\n",
              "      <td>183</td>\n",
              "    </tr>\n",
              "    <tr>\n",
              "      <th>689</th>\n",
              "      <td>Seasons 52</td>\n",
              "      <td>Rude_Service</td>\n",
              "      <td>star</td>\n",
              "      <td>166</td>\n",
              "    </tr>\n",
              "    <tr>\n",
              "      <th>651</th>\n",
              "      <td>Seasons 52</td>\n",
              "      <td>Bad_Food</td>\n",
              "      <td>sauce</td>\n",
              "      <td>180</td>\n",
              "    </tr>\n",
              "  </tbody>\n",
              "</table>\n",
              "</div>"
            ],
            "text/plain": [
              "                              Cadena      Etiqueta    Palabra  Frecuencia\n",
              "334  Olive Garden Italian Restaurant  Slow_Service      order         655\n",
              "392         Ruth's Chris Steak House  Rude_Service       food         788\n",
              "126                       Yard House  Rude_Service  bartender         376\n",
              "658                       Seasons 52      Bad_Food        lot         163\n",
              "459          Eddie V's Prime Seafood      Bad_Food     cooked         315\n",
              "193              LongHorn Steakhouse      Bad_Food  appetizer         188\n",
              "583                    Bahama Breeze  Rude_Service        bad         358\n",
              "687                       Seasons 52  Rude_Service     wanted         183\n",
              "689                       Seasons 52  Rude_Service       star         166\n",
              "651                       Seasons 52      Bad_Food      sauce         180"
            ]
          },
          "execution_count": 42,
          "metadata": {},
          "output_type": "execute_result"
        }
      ],
      "source": [
        "df.sample(10)"
      ]
    },
    {
      "cell_type": "code",
      "execution_count": 43,
      "metadata": {},
      "outputs": [],
      "source": [
        "df.to_parquet('ml_labels_palabras.parquet')"
      ]
    }
  ],
  "metadata": {
    "colab": {
      "provenance": []
    },
    "kernelspec": {
      "display_name": "Python 3",
      "name": "python3"
    },
    "language_info": {
      "codemirror_mode": {
        "name": "ipython",
        "version": 3
      },
      "file_extension": ".py",
      "mimetype": "text/x-python",
      "name": "python",
      "nbconvert_exporter": "python",
      "pygments_lexer": "ipython3",
      "version": "3.10.12"
    }
  },
  "nbformat": 4,
  "nbformat_minor": 0
}
