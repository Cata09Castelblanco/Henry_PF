{
 "cells": [
  {
   "cell_type": "code",
   "execution_count": 2,
   "metadata": {},
   "outputs": [],
   "source": [
    "import json\n",
    "import pickle\n",
    "import pandas as pd\n",
    "import numpy as np\n"
   ]
  },
  {
   "cell_type": "code",
   "execution_count": 3,
   "metadata": {},
   "outputs": [],
   "source": [
    "#Se cargan las reviews de Darden\n",
    "path_data = '../data/clean'\n",
    "df_reviews_darden = pd.read_parquet(f'{path_data}/reviews_darden.parquet')"
   ]
  },
  {
   "cell_type": "code",
   "execution_count": 4,
   "metadata": {},
   "outputs": [
    {
     "data": {
      "text/html": [
       "<div>\n",
       "<style scoped>\n",
       "    .dataframe tbody tr th:only-of-type {\n",
       "        vertical-align: middle;\n",
       "    }\n",
       "\n",
       "    .dataframe tbody tr th {\n",
       "        vertical-align: top;\n",
       "    }\n",
       "\n",
       "    .dataframe thead th {\n",
       "        text-align: right;\n",
       "    }\n",
       "</style>\n",
       "<table border=\"1\" class=\"dataframe\">\n",
       "  <thead>\n",
       "    <tr style=\"text-align: right;\">\n",
       "      <th></th>\n",
       "      <th>name</th>\n",
       "      <th>review_id</th>\n",
       "      <th>user_id</th>\n",
       "      <th>business_id</th>\n",
       "      <th>stars</th>\n",
       "      <th>text</th>\n",
       "      <th>date</th>\n",
       "      <th>day</th>\n",
       "      <th>text_reply</th>\n",
       "      <th>city</th>\n",
       "      <th>state</th>\n",
       "      <th>postal_code</th>\n",
       "      <th>coordinates</th>\n",
       "    </tr>\n",
       "  </thead>\n",
       "  <tbody>\n",
       "    <tr>\n",
       "      <th>5792</th>\n",
       "      <td>Seasons 52</td>\n",
       "      <td>oin05HO5ghbEzXRl-uhhPA</td>\n",
       "      <td>ET8n-r7glWYqZhuR6GcdNw</td>\n",
       "      <td>Mfvk9uEEhdCqj8S2u7dWgQ</td>\n",
       "      <td>3.0</td>\n",
       "      <td>Still a fan of Seasons 52 although sometimes I...</td>\n",
       "      <td>2012-01-13</td>\n",
       "      <td>₅ Friday</td>\n",
       "      <td></td>\n",
       "      <td>Cherry Hill</td>\n",
       "      <td>PA</td>\n",
       "      <td>08002</td>\n",
       "      <td>39.9403603389,-75.0264621411</td>\n",
       "    </tr>\n",
       "  </tbody>\n",
       "</table>\n",
       "</div>"
      ],
      "text/plain": [
       "            name               review_id                 user_id  \\\n",
       "5792  Seasons 52  oin05HO5ghbEzXRl-uhhPA  ET8n-r7glWYqZhuR6GcdNw   \n",
       "\n",
       "                 business_id  stars  \\\n",
       "5792  Mfvk9uEEhdCqj8S2u7dWgQ    3.0   \n",
       "\n",
       "                                                   text        date       day  \\\n",
       "5792  Still a fan of Seasons 52 although sometimes I...  2012-01-13  ₅ Friday   \n",
       "\n",
       "     text_reply         city state postal_code                   coordinates  \n",
       "5792             Cherry Hill    PA       08002  39.9403603389,-75.0264621411  "
      ]
     },
     "execution_count": 4,
     "metadata": {},
     "output_type": "execute_result"
    }
   ],
   "source": [
    "df_reviews_darden.sample()"
   ]
  },
  {
   "cell_type": "code",
   "execution_count": 5,
   "metadata": {},
   "outputs": [
    {
     "data": {
      "text/html": [
       "<div>\n",
       "<style scoped>\n",
       "    .dataframe tbody tr th:only-of-type {\n",
       "        vertical-align: middle;\n",
       "    }\n",
       "\n",
       "    .dataframe tbody tr th {\n",
       "        vertical-align: top;\n",
       "    }\n",
       "\n",
       "    .dataframe thead th {\n",
       "        text-align: right;\n",
       "    }\n",
       "</style>\n",
       "<table border=\"1\" class=\"dataframe\">\n",
       "  <thead>\n",
       "    <tr style=\"text-align: right;\">\n",
       "      <th></th>\n",
       "      <th>review_id</th>\n",
       "      <th>date</th>\n",
       "      <th>name</th>\n",
       "      <th>stars</th>\n",
       "      <th>text</th>\n",
       "    </tr>\n",
       "  </thead>\n",
       "  <tbody>\n",
       "    <tr>\n",
       "      <th>6284</th>\n",
       "      <td>YlerfZSVOJSGF2OD4IXrZQ</td>\n",
       "      <td>2018-05-07</td>\n",
       "      <td>Cheddar's Scratch Kitchen</td>\n",
       "      <td>2.0</td>\n",
       "      <td>Visited Cheddars Carrollwood today for Sunday ...</td>\n",
       "    </tr>\n",
       "  </tbody>\n",
       "</table>\n",
       "</div>"
      ],
      "text/plain": [
       "                   review_id        date                       name  stars  \\\n",
       "6284  YlerfZSVOJSGF2OD4IXrZQ  2018-05-07  Cheddar's Scratch Kitchen    2.0   \n",
       "\n",
       "                                                   text  \n",
       "6284  Visited Cheddars Carrollwood today for Sunday ...  "
      ]
     },
     "execution_count": 5,
     "metadata": {},
     "output_type": "execute_result"
    }
   ],
   "source": [
    "reviews_darden_negativas = df_reviews_darden[df_reviews_darden.stars <= 3][['review_id','date','name','stars','text']]\n",
    "reviews_darden_negativas.sample()"
   ]
  },
  {
   "cell_type": "code",
   "execution_count": 6,
   "metadata": {},
   "outputs": [],
   "source": [
    "with open('modelo_ML_negativas2.pkl', 'rb') as archivo:\n",
    "    modelo_ml = pickle.load(archivo)"
   ]
  },
  {
   "cell_type": "code",
   "execution_count": 7,
   "metadata": {},
   "outputs": [],
   "source": [
    "def etiquetar_reviews(df, modelo_ml) -> dict:\n",
    "    \"\"\"\n",
    "    \"\"\"\n",
    "    def np_encoder(object):\n",
    "        #\n",
    "        if isinstance(object, np.generic):\n",
    "            return object.item()\n",
    "    \n",
    "    problematicas = [modelo_ml.predict([review])[0] for review in df['text']]\n",
    "    \n",
    "    df_reviews_ml = pd.DataFrame({\n",
    "        'review_id': df['review_id'],\n",
    "        'date': df['date'],\n",
    "        'name': df['name'],\n",
    "        'problem': problematicas\n",
    "    })\n",
    "\n",
    "    df_reviews_problem = df_reviews_ml['problem'].apply(pd.Series)\n",
    "    df_reviews_problem.rename(\n",
    "        columns={\n",
    "            0: 'bad_food',\n",
    "            1: 'cost',\n",
    "            2: 'filthy',\n",
    "            3: 'missing_food',\n",
    "            4: 'order_problem',\n",
    "            5: 'rude_service',\n",
    "            6: 'bad_neighborhood',\n",
    "            7: 'slow_service'\n",
    "        },\n",
    "        inplace=True\n",
    "    )\n",
    "\n",
    "    df_reviews_etiquetadas = pd.concat([df_reviews_ml[['review_id', 'date','name']], df_reviews_problem], axis=1)\n",
    "    \n",
    "    df_reviews_etiquetadas['date'] = pd.to_datetime(df_reviews_etiquetadas['date'])\n",
    "    df_reviews_etiquetadas['quarter'] = df_reviews_etiquetadas['date'].dt.to_period('Q')\n",
    "    df_reviews_etiquetadas['quarter'] = df_reviews_etiquetadas['quarter'].astype('str')\n",
    "\n",
    "    # Se por trimestre y restaurante, y crear un diccionario las reseñas y sus problematicas\n",
    "    df_reviews_etiquetadas = df_reviews_etiquetadas \\\n",
    "        .groupby(['quarter', 'name']) \\\n",
    "        .apply(lambda x:\n",
    "            json.dumps({\n",
    "                'Bad_Food': sum(x['bad_food']),\n",
    "                'Cost': sum(x['cost']),\n",
    "                'Cleanliness': sum(x['filthy']),\n",
    "                #'Missing_Food': sum(x['missing_food']),\n",
    "                'Order_Problem': sum(x['order_problem']),\n",
    "                'Rude_Service': sum(x['rude_service']),\n",
    "                #'Bad_Neighborhood': sum(x['bad_neighborhood']),\n",
    "                'Slow_Service': sum(x['slow_service'])\n",
    "            },\n",
    "            default=np_encoder\n",
    "            )\n",
    "        ) \\\n",
    "        .unstack()\n",
    "    \n",
    "    return df_reviews_etiquetadas\n"
   ]
  },
  {
   "cell_type": "code",
   "execution_count": 8,
   "metadata": {},
   "outputs": [
    {
     "name": "stderr",
     "output_type": "stream",
     "text": [
      "/tmp/ipykernel_12854/3929225263.py:42: DeprecationWarning: DataFrameGroupBy.apply operated on the grouping columns. This behavior is deprecated, and in a future version of pandas the grouping columns will be excluded from the operation. Either pass `include_groups=False` to exclude the groupings or explicitly select the grouping columns after groupby to silence this warning.\n",
      "  .apply(lambda x:\n"
     ]
    }
   ],
   "source": [
    "df_reviews_etiquetadas = etiquetar_reviews(reviews_darden_negativas, modelo_ml)"
   ]
  },
  {
   "cell_type": "code",
   "execution_count": 9,
   "metadata": {},
   "outputs": [],
   "source": [
    "def reemplazar_nan_con_json(df: pd.DataFrame):\n",
    "    \"\"\"\n",
    "    \"\"\"\n",
    "    empty_json = json.dumps({\n",
    "        'Bad_Food': 0,\n",
    "        'Cost': 0,\n",
    "        'Cleanliness': 0,\n",
    "        #'Missing_Food': 0,\n",
    "        'Order_Problem': 0,\n",
    "        'Rude_Service': 0,\n",
    "        #'Bad_Neighborhood': 0,\n",
    "        'Slow_Service': 0\n",
    "    })\n",
    "    df.fillna(value=empty_json, inplace=True)\n",
    "\n",
    "    return df"
   ]
  },
  {
   "cell_type": "code",
   "execution_count": 10,
   "metadata": {},
   "outputs": [],
   "source": [
    "df_etiquetada = reemplazar_nan_con_json(df_reviews_etiquetadas)"
   ]
  },
  {
   "cell_type": "code",
   "execution_count": 11,
   "metadata": {},
   "outputs": [],
   "source": [
    "def json_anidado_a_dataframe(columna: pd.Series) -> pd.DataFrame:\n",
    "    \"\"\"\n",
    "    \"\"\"\n",
    "    columna = columna.apply(json.loads)\n",
    "    df_anidado = columna.apply(lambda x: pd.json_normalize(x))\n",
    "    df_final = pd.concat(df_anidado.tolist(), axis=0)\n",
    "    df_final.index = columna.index\n",
    "\n",
    "    return df_final"
   ]
  },
  {
   "cell_type": "code",
   "execution_count": 12,
   "metadata": {},
   "outputs": [],
   "source": [
    "dfs = {}\n",
    "for col in df_etiquetada.columns:\n",
    "    df = json_anidado_a_dataframe(df_etiquetada[col])\n",
    "    data = []\n",
    "    for trimestre, row in df.iterrows():\n",
    "        for etiqueta, frequency in row.items():\n",
    "            for _ in range(frequency):\n",
    "                data.append({'Trimestre': trimestre, 'Etiqueta': etiqueta})\n",
    "    df_data = pd.DataFrame(data)\n",
    "    df_data['Cadena'] = col\n",
    "    dfs[col] = df_data"
   ]
  },
  {
   "cell_type": "code",
   "execution_count": 13,
   "metadata": {},
   "outputs": [
    {
     "data": {
      "text/plain": [
       "dict_keys(['Bahama Breeze', \"Cheddar's Scratch Kitchen\", \"Eddie V's Prime Seafood\", 'LongHorn Steakhouse', 'Olive Garden Italian Restaurant', \"Ruth's Chris Steak House\", 'Seasons 52', 'Yard House'])"
      ]
     },
     "execution_count": 13,
     "metadata": {},
     "output_type": "execute_result"
    }
   ],
   "source": [
    "dfs.keys()"
   ]
  },
  {
   "cell_type": "code",
   "execution_count": 14,
   "metadata": {},
   "outputs": [],
   "source": [
    "df_out = pd.DataFrame()\n",
    "for df in dfs.values():\n",
    "    df_out = pd.concat([df_out, df], ignore_index=True)"
   ]
  },
  {
   "cell_type": "code",
   "execution_count": 20,
   "metadata": {},
   "outputs": [
    {
     "name": "stdout",
     "output_type": "stream",
     "text": [
      "   Trimestre       Etiqueta         Cadena\n",
      "0     2009Q1       Bad_Food  Bahama Breeze\n",
      "1     2009Q4       Bad_Food  Bahama Breeze\n",
      "2     2010Q1   Rude_Service  Bahama Breeze\n",
      "3     2010Q2   Slow_Service  Bahama Breeze\n",
      "4     2011Q3       Bad_Food  Bahama Breeze\n",
      "5     2012Q1       Bad_Food  Bahama Breeze\n",
      "6     2012Q2       Bad_Food  Bahama Breeze\n",
      "7     2012Q2    Cleanliness  Bahama Breeze\n",
      "8     2012Q2   Rude_Service  Bahama Breeze\n",
      "9     2012Q2   Rude_Service  Bahama Breeze\n",
      "10    2012Q2   Slow_Service  Bahama Breeze\n",
      "11    2012Q4       Bad_Food  Bahama Breeze\n",
      "12    2012Q4       Bad_Food  Bahama Breeze\n",
      "13    2012Q4   Rude_Service  Bahama Breeze\n",
      "14    2012Q4   Rude_Service  Bahama Breeze\n",
      "15    2012Q4   Slow_Service  Bahama Breeze\n",
      "16    2013Q1       Bad_Food  Bahama Breeze\n",
      "17    2013Q1       Bad_Food  Bahama Breeze\n",
      "18    2013Q1       Bad_Food  Bahama Breeze\n",
      "19    2013Q1   Slow_Service  Bahama Breeze\n",
      "20    2013Q2       Bad_Food  Bahama Breeze\n",
      "21    2013Q2       Bad_Food  Bahama Breeze\n",
      "22    2013Q2       Bad_Food  Bahama Breeze\n",
      "23    2013Q2  Order_Problem  Bahama Breeze\n",
      "24    2013Q2   Rude_Service  Bahama Breeze\n",
      "25    2013Q2   Rude_Service  Bahama Breeze\n",
      "26    2013Q2   Rude_Service  Bahama Breeze\n",
      "27    2013Q2   Rude_Service  Bahama Breeze\n",
      "28    2013Q2   Rude_Service  Bahama Breeze\n",
      "29    2013Q2   Slow_Service  Bahama Breeze\n",
      "30    2013Q3       Bad_Food  Bahama Breeze\n",
      "31    2013Q3       Bad_Food  Bahama Breeze\n",
      "32    2013Q3       Bad_Food  Bahama Breeze\n",
      "33    2013Q3   Rude_Service  Bahama Breeze\n",
      "34    2013Q3   Slow_Service  Bahama Breeze\n",
      "35    2013Q3   Slow_Service  Bahama Breeze\n",
      "36    2013Q4       Bad_Food  Bahama Breeze\n",
      "37    2013Q4  Order_Problem  Bahama Breeze\n",
      "38    2013Q4   Rude_Service  Bahama Breeze\n",
      "39    2013Q4   Slow_Service  Bahama Breeze\n",
      "40    2014Q1  Order_Problem  Bahama Breeze\n",
      "41    2014Q1  Order_Problem  Bahama Breeze\n",
      "42    2014Q2       Bad_Food  Bahama Breeze\n",
      "43    2014Q2   Slow_Service  Bahama Breeze\n",
      "44    2014Q3       Bad_Food  Bahama Breeze\n",
      "45    2014Q3  Order_Problem  Bahama Breeze\n",
      "46    2014Q3   Rude_Service  Bahama Breeze\n",
      "47    2014Q3   Slow_Service  Bahama Breeze\n",
      "48    2014Q4       Bad_Food  Bahama Breeze\n",
      "49    2014Q4       Bad_Food  Bahama Breeze\n"
     ]
    }
   ],
   "source": [
    "print(df_out.head(50))"
   ]
  },
  {
   "cell_type": "code",
   "execution_count": 16,
   "metadata": {},
   "outputs": [
    {
     "data": {
      "text/html": [
       "<div>\n",
       "<style scoped>\n",
       "    .dataframe tbody tr th:only-of-type {\n",
       "        vertical-align: middle;\n",
       "    }\n",
       "\n",
       "    .dataframe tbody tr th {\n",
       "        vertical-align: top;\n",
       "    }\n",
       "\n",
       "    .dataframe thead th {\n",
       "        text-align: right;\n",
       "    }\n",
       "</style>\n",
       "<table border=\"1\" class=\"dataframe\">\n",
       "  <thead>\n",
       "    <tr style=\"text-align: right;\">\n",
       "      <th></th>\n",
       "      <th>Trimestre</th>\n",
       "      <th>Etiqueta</th>\n",
       "      <th>Cadena</th>\n",
       "    </tr>\n",
       "  </thead>\n",
       "  <tbody>\n",
       "    <tr>\n",
       "      <th>18</th>\n",
       "      <td>2013Q1</td>\n",
       "      <td>Bad_Food</td>\n",
       "      <td>Bahama Breeze</td>\n",
       "    </tr>\n",
       "    <tr>\n",
       "      <th>562</th>\n",
       "      <td>2014Q4</td>\n",
       "      <td>Slow_Service</td>\n",
       "      <td>LongHorn Steakhouse</td>\n",
       "    </tr>\n",
       "    <tr>\n",
       "      <th>1664</th>\n",
       "      <td>2019Q1</td>\n",
       "      <td>Slow_Service</td>\n",
       "      <td>Yard House</td>\n",
       "    </tr>\n",
       "    <tr>\n",
       "      <th>1524</th>\n",
       "      <td>2017Q3</td>\n",
       "      <td>Bad_Food</td>\n",
       "      <td>Seasons 52</td>\n",
       "    </tr>\n",
       "    <tr>\n",
       "      <th>1605</th>\n",
       "      <td>2017Q3</td>\n",
       "      <td>Rude_Service</td>\n",
       "      <td>Yard House</td>\n",
       "    </tr>\n",
       "    <tr>\n",
       "      <th>...</th>\n",
       "      <td>...</td>\n",
       "      <td>...</td>\n",
       "      <td>...</td>\n",
       "    </tr>\n",
       "    <tr>\n",
       "      <th>491</th>\n",
       "      <td>2011Q1</td>\n",
       "      <td>Bad_Food</td>\n",
       "      <td>LongHorn Steakhouse</td>\n",
       "    </tr>\n",
       "    <tr>\n",
       "      <th>828</th>\n",
       "      <td>2021Q4</td>\n",
       "      <td>Slow_Service</td>\n",
       "      <td>LongHorn Steakhouse</td>\n",
       "    </tr>\n",
       "    <tr>\n",
       "      <th>175</th>\n",
       "      <td>2018Q3</td>\n",
       "      <td>Rude_Service</td>\n",
       "      <td>Bahama Breeze</td>\n",
       "    </tr>\n",
       "    <tr>\n",
       "      <th>1180</th>\n",
       "      <td>2019Q2</td>\n",
       "      <td>Bad_Food</td>\n",
       "      <td>Olive Garden Italian Restaurant</td>\n",
       "    </tr>\n",
       "    <tr>\n",
       "      <th>265</th>\n",
       "      <td>2021Q2</td>\n",
       "      <td>Cleanliness</td>\n",
       "      <td>Bahama Breeze</td>\n",
       "    </tr>\n",
       "  </tbody>\n",
       "</table>\n",
       "<p>100 rows × 3 columns</p>\n",
       "</div>"
      ],
      "text/plain": [
       "     Trimestre      Etiqueta                           Cadena\n",
       "18      2013Q1      Bad_Food                    Bahama Breeze\n",
       "562     2014Q4  Slow_Service              LongHorn Steakhouse\n",
       "1664    2019Q1  Slow_Service                       Yard House\n",
       "1524    2017Q3      Bad_Food                       Seasons 52\n",
       "1605    2017Q3  Rude_Service                       Yard House\n",
       "...        ...           ...                              ...\n",
       "491     2011Q1      Bad_Food              LongHorn Steakhouse\n",
       "828     2021Q4  Slow_Service              LongHorn Steakhouse\n",
       "175     2018Q3  Rude_Service                    Bahama Breeze\n",
       "1180    2019Q2      Bad_Food  Olive Garden Italian Restaurant\n",
       "265     2021Q2   Cleanliness                    Bahama Breeze\n",
       "\n",
       "[100 rows x 3 columns]"
      ]
     },
     "execution_count": 16,
     "metadata": {},
     "output_type": "execute_result"
    }
   ],
   "source": [
    "df_out.sample(100)"
   ]
  },
  {
   "cell_type": "code",
   "execution_count": 17,
   "metadata": {},
   "outputs": [],
   "source": [
    "#df_out.to_parquet('ml_labels_All.parquet')"
   ]
  },
  {
   "cell_type": "code",
   "execution_count": 18,
   "metadata": {},
   "outputs": [
    {
     "data": {
      "text/plain": [
       "'for name, df in dfs.items():\\n    #df[\\'cadena\\'] = name\\n    name: str = name.replace(\"\\'\",\"\").replace(\" \",\"\")\\n    print(name)\\n    #df.to_parquet(f\\'ml_labels_{name}.parquet\\')'"
      ]
     },
     "execution_count": 18,
     "metadata": {},
     "output_type": "execute_result"
    }
   ],
   "source": [
    "\"\"\"for name, df in dfs.items():\n",
    "    #df['cadena'] = name\n",
    "    name: str = name.replace(\"'\",\"\").replace(\" \",\"\")\n",
    "    print(name)\n",
    "    #df.to_parquet(f'ml_labels_{name}.parquet')\"\"\""
   ]
  },
  {
   "cell_type": "code",
   "execution_count": 19,
   "metadata": {},
   "outputs": [],
   "source": [
    "#dfs['Olive Garden Italian Restaurant'].sample(1)"
   ]
  },
  {
   "cell_type": "code",
   "execution_count": null,
   "metadata": {},
   "outputs": [],
   "source": [
    "\n"
   ]
  }
 ],
 "metadata": {
  "kernelspec": {
   "display_name": "Python 3",
   "language": "python",
   "name": "python3"
  },
  "language_info": {
   "codemirror_mode": {
    "name": "ipython",
    "version": 3
   },
   "file_extension": ".py",
   "mimetype": "text/x-python",
   "name": "python",
   "nbconvert_exporter": "python",
   "pygments_lexer": "ipython3",
   "version": "3.10.12"
  }
 },
 "nbformat": 4,
 "nbformat_minor": 2
}
