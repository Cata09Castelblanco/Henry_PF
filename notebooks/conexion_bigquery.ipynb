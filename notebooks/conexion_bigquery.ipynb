{
 "cells": [
  {
   "cell_type": "code",
   "execution_count": 1,
   "metadata": {},
   "outputs": [],
   "source": [
    "from sqlalchemy import create_engine, MetaData, Table, Column, String, inspect, select"
   ]
  },
  {
   "cell_type": "markdown",
   "metadata": {},
   "source": [
    "---\n",
    "## Conexión a BigQuery"
   ]
  },
  {
   "cell_type": "markdown",
   "metadata": {},
   "source": [
    "**NOTA:** Antes de conectar con BigQuery, es necesario designar las credenciales dentro de tu ambiente.\n",
    "\n",
    "__en Windows:__\n",
    "\n",
    "1. Corre el siguiente command en `cmd.exe`, con privilegios de administrador Windows:\n",
    "\n",
    " - `setx GOOGLE_APPLICATION_CREDENTIALS \"C:\\{ruta}\\bq_keys.json\" /M`\n",
    "\n",
    "    (reemplace `{ruta}` con la ruta de `bq_keys.json` en tu ambiente)\n",
    "\n",
    "2. Confirme la configuración con:\n",
    "\n",
    " - `echo %GOOGLE_APPLICATION_CREDENTIALS%`"
   ]
  },
  {
   "cell_type": "markdown",
   "metadata": {},
   "source": [
    "---\n",
    "### Establecer conexión"
   ]
  },
  {
   "cell_type": "code",
   "execution_count": 2,
   "metadata": {},
   "outputs": [],
   "source": [
    "# Nombres de proyecto y dataset en Google Cloud\n",
    "project_id = 'coastal-height-421718'\n",
    "dataset = 'Yelp_Google'\n",
    "\n",
    "# Crear motor de conexión\n",
    "db_uri = f'bigquery://{project_id}/{dataset}'\n",
    "engine = create_engine(db_uri)"
   ]
  },
  {
   "cell_type": "markdown",
   "metadata": {},
   "source": [
    "### Prueba de conexión"
   ]
  },
  {
   "cell_type": "code",
   "execution_count": 3,
   "metadata": {},
   "outputs": [
    {
     "name": "stderr",
     "output_type": "stream",
     "text": [
      "/home/henry/PF/env-pf/lib/python3.10/site-packages/google/cloud/bigquery/client.py:585: UserWarning: Cannot create BigQuery Storage client, the dependency google-cloud-bigquery-storage is not installed.\n",
      "  warnings.warn(\n"
     ]
    },
    {
     "name": "stdout",
     "output_type": "stream",
     "text": [
      "kpi1\n",
      "kpi2\n",
      "kpi3\n",
      "kpi4\n",
      "ml_labels_All\n",
      "ml_labels_palabras\n",
      "reviews_bloomin\n",
      "reviews_brinker\n",
      "reviews_competencia_fecha\n",
      "reviews_darden\n",
      "reviews_ml_labeled\n",
      "reviews_texasroadhouse\n",
      "y_attributes\n",
      "y_business\n",
      "y_checkin\n",
      "y_review\n",
      "y_tip\n",
      "y_user\n"
     ]
    }
   ],
   "source": [
    "# Instanciar objeto `MetaData`\n",
    "metadata = MetaData()\n",
    "# Cargar las tablas del dataset\n",
    "metadata.reflect(bind=engine)\n",
    "# Imprimir nombre de todo tabla\n",
    "for nom_tabla in metadata.tables:\n",
    "    print(nom_tabla)"
   ]
  },
  {
   "cell_type": "markdown",
   "metadata": {},
   "source": [
    "---\n",
    "### Ejemplo query: Reviews de Darden\n",
    "En este ejemplo, cargamos todos los reviews correpondientes a Darden."
   ]
  },
  {
   "cell_type": "markdown",
   "metadata": {},
   "source": [
    "1. Cargamos un dict con los nombres de restaurantes de Darden y su competidores."
   ]
  },
  {
   "cell_type": "code",
   "execution_count": null,
   "metadata": {},
   "outputs": [],
   "source": [
    "# Importar archivo `carga_data.py`\n",
    "import utils.carga_data as cd\n",
    "\n",
    "# Diccionario de compañias con sus repectivas listas de marcas \n",
    "brands = cd.cargar_brands()\n",
    "brands.keys()"
   ]
  },
  {
   "cell_type": "code",
   "execution_count": null,
   "metadata": {},
   "outputs": [
    {
     "data": {
      "text/plain": [
       "['Olive Garden Italian Restaurant',\n",
       " 'LongHorn Steakhouse',\n",
       " \"Cheddar's Scratch Kitchen\",\n",
       " 'Yard House',\n",
       " 'The Capital Grille',\n",
       " 'Seasons 52',\n",
       " 'Bahama Breeze',\n",
       " \"Eddie V's\",\n",
       " \"Ruth's Chris Steak House\"]"
      ]
     },
     "execution_count": 5,
     "metadata": {},
     "output_type": "execute_result"
    }
   ],
   "source": [
    "brands['darden']"
   ]
  },
  {
   "cell_type": "markdown",
   "metadata": {},
   "source": [
    "2. Imprimimos las columnas de tabla `y_review`"
   ]
  },
  {
   "cell_type": "code",
   "execution_count": null,
   "metadata": {},
   "outputs": [
    {
     "name": "stdout",
     "output_type": "stream",
     "text": [
      "name\n",
      "user_id\n",
      "business_id\n",
      "stars\n",
      "useful\n",
      "funny\n",
      "cool\n",
      "text\n",
      "date\n",
      "review_id\n"
     ]
    }
   ],
   "source": [
    "# Instanciar objeto `inspect`\n",
    "inspector = inspect(engine)\n",
    "# Identificar la tabla de interés\n",
    "nombre_tabla = 'y_review'\n",
    "\n",
    "# Colectar e imprimir los nombre de columnas de `y_review`\n",
    "col = inspector.get_columns(nombre_tabla)\n",
    "for c in col:\n",
    "    print(c['name'])"
   ]
  },
  {
   "cell_type": "markdown",
   "metadata": {},
   "source": [
    "3. Ejecutar query"
   ]
  },
  {
   "cell_type": "code",
   "execution_count": null,
   "metadata": {},
   "outputs": [],
   "source": [
    "# Definir context metadata\n",
    "metadata = MetaData()\n",
    "\n",
    "y_review = Table('y_review', metadata,\n",
    "                   Column('name', String),\n",
    "                   Column('text', String)\n",
    "                   )\n",
    "# Contruir un SQL SELECT, con condicional de `name` se encuentre en in la lista `brands['darden']`\n",
    "stmt = select(y_review.c.name, y_review.c.text).where(y_review.c.name.in_(brands['darden']))\n",
    "\n",
    "# Execute the query and fetch the results\n",
    "with engine.connect() as connection:\n",
    "    results = connection.execute(stmt).fetchall()\n",
    "\n",
    "# Imprimir cada fila del resultado\n",
    "for row in results:\n",
    "    print(row)"
   ]
  },
  {
   "cell_type": "markdown",
   "metadata": {},
   "source": [
    "4. Gestionar datos localmente"
   ]
  },
  {
   "cell_type": "code",
   "execution_count": null,
   "metadata": {},
   "outputs": [
    {
     "data": {
      "text/html": [
       "<div>\n",
       "<style scoped>\n",
       "    .dataframe tbody tr th:only-of-type {\n",
       "        vertical-align: middle;\n",
       "    }\n",
       "\n",
       "    .dataframe tbody tr th {\n",
       "        vertical-align: top;\n",
       "    }\n",
       "\n",
       "    .dataframe thead th {\n",
       "        text-align: right;\n",
       "    }\n",
       "</style>\n",
       "<table border=\"1\" class=\"dataframe\">\n",
       "  <thead>\n",
       "    <tr style=\"text-align: right;\">\n",
       "      <th></th>\n",
       "      <th>name</th>\n",
       "      <th>text</th>\n",
       "    </tr>\n",
       "  </thead>\n",
       "  <tbody>\n",
       "    <tr>\n",
       "      <th>402</th>\n",
       "      <td>Seasons 52</td>\n",
       "      <td>Bottom line is that you get really good food a...</td>\n",
       "    </tr>\n",
       "    <tr>\n",
       "      <th>2718</th>\n",
       "      <td>LongHorn Steakhouse</td>\n",
       "      <td>This restaurant sucks the waitress was slow an...</td>\n",
       "    </tr>\n",
       "    <tr>\n",
       "      <th>1403</th>\n",
       "      <td>Bahama Breeze</td>\n",
       "      <td>The food and service was good.  Enjoyed the wa...</td>\n",
       "    </tr>\n",
       "  </tbody>\n",
       "</table>\n",
       "</div>"
      ],
      "text/plain": [
       "                     name                                               text\n",
       "402            Seasons 52  Bottom line is that you get really good food a...\n",
       "2718  LongHorn Steakhouse  This restaurant sucks the waitress was slow an...\n",
       "1403        Bahama Breeze  The food and service was good.  Enjoyed the wa..."
      ]
     },
     "execution_count": 8,
     "metadata": {},
     "output_type": "execute_result"
    }
   ],
   "source": [
    "import pandas as pd\n",
    "\n",
    "df_review_darden = pd.DataFrame(results)\n",
    "df_review_darden.sample(3)"
   ]
  }
 ],
 "metadata": {
  "kernelspec": {
   "display_name": "base",
   "language": "python",
   "name": "python3"
  },
  "language_info": {
   "codemirror_mode": {
    "name": "ipython",
    "version": 3
   },
   "file_extension": ".py",
   "mimetype": "text/x-python",
   "name": "python",
   "nbconvert_exporter": "python",
   "pygments_lexer": "ipython3",
   "version": "3.10.12"
  }
 },
 "nbformat": 4,
 "nbformat_minor": 2
}
