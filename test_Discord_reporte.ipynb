{
 "cells": [
  {
   "cell_type": "code",
   "execution_count": 1,
   "metadata": {},
   "outputs": [],
   "source": [
    "import pandas as pd\n",
    "from pprint import pformat\n",
    "from requests import post"
   ]
  },
  {
   "cell_type": "code",
   "execution_count": 2,
   "metadata": {},
   "outputs": [],
   "source": [
    "darden = pd.DataFrame({'review_id':[\n",
    "    'UYPvR-zjXnfH7gVToQj1tg','2RzDu2IMnx2CCxH3hAptsQ',\n",
    "    'rdNr9SIMpoCr1CDHyGLiCQ'\n",
    "]})\n",
    "\n",
    "bloomin = pd.DataFrame({'review_id':[\n",
    "    'Vtj30EIB4voehs4ZblYJbw','ibtjlqMv5YajZb_2qvtvCw'\n",
    "]})\n",
    "\n",
    "brinker = pd.DataFrame({'review_id':[\n",
    "    'IIWY5euYwmxvlDYCjg8WcQ','gth1ABNxynVlmVJc31MwqA',\n",
    "    'YiMySnYr65upUZj8sJSY3Q'\n",
    "]})\n",
    "\n",
    "texasroadhouse = pd.DataFrame({'review_id':[\n",
    "    'CnrllGFDE-_gQvieW-x5Nw'\n",
    "]})"
   ]
  },
  {
   "cell_type": "code",
   "execution_count": 3,
   "metadata": {},
   "outputs": [],
   "source": [
    "dfs = {'darden':darden, 'bloomin':bloomin, 'brinker':brinker, 'texasroadhouse':texasroadhouse}"
   ]
  },
  {
   "cell_type": "code",
   "execution_count": 4,
   "metadata": {},
   "outputs": [
    {
     "data": {
      "text/plain": [
       "dict_keys(['darden', 'bloomin', 'brinker', 'texasroadhouse'])"
      ]
     },
     "execution_count": 4,
     "metadata": {},
     "output_type": "execute_result"
    }
   ],
   "source": [
    "dfs.keys()"
   ]
  },
  {
   "cell_type": "code",
   "execution_count": 5,
   "metadata": {},
   "outputs": [],
   "source": [
    "from time import sleep"
   ]
  },
  {
   "cell_type": "code",
   "execution_count": null,
   "metadata": {},
   "outputs": [],
   "source": [
    "url = 'https://discord.com/api/webhooks/1138658692330426438/uVeQHl7bSseozxb_WuH5QrXdbUeP7v7rX8v2Pm5zu_Q0-_DCTAqu6cyWJeswV6_6mvTr'\n",
    "\n",
    "lista_msg = [\"__Reporte de Reseñas Nuevas__\"]\n",
    "for company, df in dfs.items():\n",
    "    lista_msg.append(f\"\\n**{company.title()}**\")\n",
    "    for item in df['review_id'].tolist():\n",
    "        lista_msg.append(item)\n",
    "\n",
    "content = lista_msg\n",
    "for c in content:\n",
    "    try:\n",
    "        post(url, json={'username':'Mage', 'content':c})\n",
    "        print(True)\n",
    "    except Exception as e:\n",
    "        print(str(e))\n",
    "        print(False)\n",
    "    sleep(1.26)"
   ]
  },
  {
   "cell_type": "code",
   "execution_count": 7,
   "metadata": {},
   "outputs": [
    {
     "data": {
      "text/plain": [
       "['__Reporte de Reseñas Nuevas__',\n",
       " '\\n**Darden**',\n",
       " 'UYPvR-zjXnfH7gVToQj1tg',\n",
       " '2RzDu2IMnx2CCxH3hAptsQ',\n",
       " 'rdNr9SIMpoCr1CDHyGLiCQ',\n",
       " '\\n**Bloomin**',\n",
       " 'Vtj30EIB4voehs4ZblYJbw',\n",
       " 'ibtjlqMv5YajZb_2qvtvCw',\n",
       " '\\n**Brinker**',\n",
       " 'IIWY5euYwmxvlDYCjg8WcQ',\n",
       " 'gth1ABNxynVlmVJc31MwqA',\n",
       " 'YiMySnYr65upUZj8sJSY3Q',\n",
       " '\\n**Texasroadhouse**',\n",
       " 'CnrllGFDE-_gQvieW-x5Nw']"
      ]
     },
     "execution_count": 7,
     "metadata": {},
     "output_type": "execute_result"
    }
   ],
   "source": [
    "lista_msg"
   ]
  }
 ],
 "metadata": {
  "kernelspec": {
   "display_name": "env-pf",
   "language": "python",
   "name": "python3"
  },
  "language_info": {
   "codemirror_mode": {
    "name": "ipython",
    "version": 3
   },
   "file_extension": ".py",
   "mimetype": "text/x-python",
   "name": "python",
   "nbconvert_exporter": "python",
   "pygments_lexer": "ipython3",
   "version": "3.10.12"
  }
 },
 "nbformat": 4,
 "nbformat_minor": 2
}
